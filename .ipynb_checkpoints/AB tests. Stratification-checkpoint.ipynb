{
 "cells": [
  {
   "cell_type": "markdown",
   "id": "e0751643",
   "metadata": {},
   "source": [
    "### 1. Стратифицируйте выборку по полям # of impressions, # of view content, # of searches\n",
    "Установите Threshhold, базируясь на гистограмме из библиотеки Seaborn\n",
    "### 2. Приложите выполненную работу к заданию"
   ]
  },
  {
   "cell_type": "code",
   "execution_count": 88,
   "id": "da3bce48",
   "metadata": {},
   "outputs": [
    {
     "name": "stdout",
     "output_type": "stream",
     "text": [
      "       client_id\n",
      "group           \n",
      "A              8\n",
      "B             52\n"
     ]
    },
    {
     "data": {
      "text/html": [
       "<div>\n",
       "<style scoped>\n",
       "    .dataframe tbody tr th:only-of-type {\n",
       "        vertical-align: middle;\n",
       "    }\n",
       "\n",
       "    .dataframe tbody tr th {\n",
       "        vertical-align: top;\n",
       "    }\n",
       "\n",
       "    .dataframe thead th {\n",
       "        text-align: right;\n",
       "    }\n",
       "</style>\n",
       "<table border=\"1\" class=\"dataframe\">\n",
       "  <thead>\n",
       "    <tr style=\"text-align: right;\">\n",
       "      <th></th>\n",
       "      <th>client_id</th>\n",
       "      <th>Campaign Name</th>\n",
       "      <th>Date</th>\n",
       "      <th>Spend [USD]</th>\n",
       "      <th># of Impressions</th>\n",
       "      <th>Reach</th>\n",
       "      <th># of Website Clicks</th>\n",
       "      <th># of Searches</th>\n",
       "      <th># of View Content</th>\n",
       "      <th># of Add to Cart</th>\n",
       "      <th># of Purchase</th>\n",
       "      <th>group</th>\n",
       "    </tr>\n",
       "  </thead>\n",
       "  <tbody>\n",
       "  </tbody>\n",
       "</table>\n",
       "</div>"
      ],
      "text/plain": [
       "Empty DataFrame\n",
       "Columns: [client_id, Campaign Name, Date, Spend [USD], # of Impressions, Reach, # of Website Clicks, # of Searches, # of View Content, # of Add to Cart, # of Purchase, group]\n",
       "Index: []"
      ]
     },
     "execution_count": 88,
     "metadata": {},
     "output_type": "execute_result"
    }
   ],
   "source": [
    "import pandas as pd\n",
    "import numpy as np\n",
    "import seaborn as sns\n",
    "import matplotlib.pyplot as plt\n",
    "\n",
    "df = pd.read_excel('sample.xlsx', index_col=0).reset_index()\n",
    "df = df.rename(columns={'index': 'client_id'})\n",
    "df = df.drop(['level_0'], axis=1)\n",
    "\n",
    "#sns.histplot(data=df['# of Impressions'], binwidth=50)\n",
    "#sns.histplot(data=df['# of View Content'], binwidth=20)\n",
    "#sns.histplot(data=df['# of Searches'], binwidth=50)\n",
    "\n",
    "threshhold_impres = 100000\n",
    "threshhold_view = 2300\n",
    "threshhold_search = 2500\n",
    "\n",
    "def stratify(row):\n",
    "    if row['# of Impressions']>= threshhold_impres and row['# of View Content']>= threshhold_view and row['# of Searches'] >=threshhold_search:\n",
    "        return 'A'\n",
    "    else:\n",
    "        return 'B'\n",
    "df['group'] = df.apply(stratify,axis=1)\n",
    "\n",
    "groupped = df.groupby('group').agg({'client_id':'nunique'})\n",
    "print(groupped)\n",
    "\n",
    "group_A = df[df['group']=='A']\n",
    "group_B = df[df['group']=='B']\n",
    "\n",
    "#group_A['client_id'].isin(group_B['client_id'])\n",
    "#group_B['client_id'].isin(group_A['client_id'])\n",
    "\n",
    "\n",
    "#group_A[group_A.client_id.isin(group_B['client_id'])] \n",
    "group_B[group_B.client_id.isin(group_A['client_id'])] \n",
    "\n",
    "#df"
   ]
  },
  {
   "cell_type": "markdown",
   "id": "11fe2e37",
   "metadata": {},
   "source": [
    "### Формируем гипотезы:\n",
    "### 0-H Скидка на 4G роутер не влияет на кол-во продаж студентов\n",
    "### 1-H Скидка на 4G роутер увеличит кол-во продаж студентов\n",
    "### Формируем метрики (% конверсия в продажу)\n",
    "### Расчет выборки\n",
    "### Разделение на группы\n",
    "### Проведение теста и сбор данных\n",
    "### Анализ теста и обработка данных\n",
    "### Принятие решения"
   ]
  },
  {
   "cell_type": "code",
   "execution_count": 13,
   "id": "c85e35db",
   "metadata": {
    "scrolled": true
   },
   "outputs": [
    {
     "name": "stdout",
     "output_type": "stream",
     "text": [
      "6279.088407460959\n",
      "6.279088407460959\n"
     ]
    }
   ],
   "source": [
    "# Пример расчета в Python с использованием библиотеки statsmodels\n",
    "\n",
    "from statsmodels.stats.power import NormalIndPower\n",
    "\n",
    "# Задаем параметры\n",
    "alpha = 0.05  # уровень значимости,чтобы не допустить ошибку 1 рода, увидеть эффект, когда его нет. \n",
    "#При отсутствии эффекта есть 5% вероятность его увидеть\n",
    "power = 0.9   # мощность теста, 90% вероятность увидеть эффект, если он есть(чтобы не допустить ошибку 2 рода)\n",
    "#beta = 10%, вероятность не обнаружить эффект, когда он есть = 10%\n",
    "effect_size = 0.05 # минимально значимый эффект (насколько мы хотим увеличить показатели конверсии) = 5%\n",
    "\n",
    "# Создаем экземпляр теста\n",
    "analysis = NormalIndPower()\n",
    "\n",
    "# Рассчитываем размер выборки для каждой группы\n",
    "sample_size = analysis.solve_power(effect_size=effect_size, alpha=alpha, power=power, alternative='two-sided')\n",
    "print(sample_size)\n",
    "\n",
    "avg_visitors = 1000\n",
    "AB_days_quantity = sample_size / avg_visitors\n",
    "print(AB_days_quantity)"
   ]
  },
  {
   "cell_type": "markdown",
   "id": "e7baf43f",
   "metadata": {},
   "source": [
    "### Сравниваем 2 группы , проверяем распределение критерием Шапиро-Уилка, если распределние -нормальное,  можно использовать Манна Уитни или z test  и далее мы принимаем решение или 0H или 1H"
   ]
  },
  {
   "cell_type": "code",
   "execution_count": null,
   "id": "bbd36509",
   "metadata": {},
   "outputs": [],
   "source": []
  }
 ],
 "metadata": {
  "kernelspec": {
   "display_name": "Python 3 (ipykernel)",
   "language": "python",
   "name": "python3"
  },
  "language_info": {
   "codemirror_mode": {
    "name": "ipython",
    "version": 3
   },
   "file_extension": ".py",
   "mimetype": "text/x-python",
   "name": "python",
   "nbconvert_exporter": "python",
   "pygments_lexer": "ipython3",
   "version": "3.10.11"
  }
 },
 "nbformat": 4,
 "nbformat_minor": 5
}
